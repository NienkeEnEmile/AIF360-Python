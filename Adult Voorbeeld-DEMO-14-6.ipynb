{
 "cells": [
  {
   "cell_type": "code",
   "execution_count": 1,
   "id": "d49ddaf2",
   "metadata": {},
   "outputs": [],
   "source": [
    "import pandas as pd\n",
    "import numpy as np\n",
    "from sklearn.model_selection import train_test_split\n",
    "import aif360\n",
    "from aif360.metrics import BinaryLabelDatasetMetric, ClassificationMetric\n",
    "from aif360.algorithms.preprocessing import Reweighing\n",
    "from sklearn.ensemble import AdaBoostClassifier\n",
    "from sklearn import metrics\n",
    "import matplotlib.pyplot as plt"
   ]
  },
  {
   "cell_type": "code",
   "execution_count": 2,
   "id": "39955da6",
   "metadata": {
    "scrolled": false
   },
   "outputs": [
    {
     "data": {
      "text/html": [
       "<div>\n",
       "<style scoped>\n",
       "    .dataframe tbody tr th:only-of-type {\n",
       "        vertical-align: middle;\n",
       "    }\n",
       "\n",
       "    .dataframe tbody tr th {\n",
       "        vertical-align: top;\n",
       "    }\n",
       "\n",
       "    .dataframe thead th {\n",
       "        text-align: right;\n",
       "    }\n",
       "</style>\n",
       "<table border=\"1\" class=\"dataframe\">\n",
       "  <thead>\n",
       "    <tr style=\"text-align: right;\">\n",
       "      <th></th>\n",
       "      <th>age</th>\n",
       "      <th>workclass</th>\n",
       "      <th>fnlwgt</th>\n",
       "      <th>education.num</th>\n",
       "      <th>marital.status</th>\n",
       "      <th>occupation</th>\n",
       "      <th>relationship</th>\n",
       "      <th>race</th>\n",
       "      <th>sex</th>\n",
       "      <th>capital.gain</th>\n",
       "      <th>capital.loss</th>\n",
       "      <th>hours.per.week</th>\n",
       "      <th>native.country</th>\n",
       "      <th>income</th>\n",
       "    </tr>\n",
       "  </thead>\n",
       "  <tbody>\n",
       "    <tr>\n",
       "      <th>0</th>\n",
       "      <td>90</td>\n",
       "      <td>?</td>\n",
       "      <td>77053</td>\n",
       "      <td>9</td>\n",
       "      <td>Widowed</td>\n",
       "      <td>?</td>\n",
       "      <td>Not-in-family</td>\n",
       "      <td>White</td>\n",
       "      <td>Female</td>\n",
       "      <td>0</td>\n",
       "      <td>4356</td>\n",
       "      <td>40</td>\n",
       "      <td>United-States</td>\n",
       "      <td>&lt;=50K</td>\n",
       "    </tr>\n",
       "    <tr>\n",
       "      <th>1</th>\n",
       "      <td>82</td>\n",
       "      <td>Private</td>\n",
       "      <td>132870</td>\n",
       "      <td>9</td>\n",
       "      <td>Widowed</td>\n",
       "      <td>Exec-managerial</td>\n",
       "      <td>Not-in-family</td>\n",
       "      <td>White</td>\n",
       "      <td>Female</td>\n",
       "      <td>0</td>\n",
       "      <td>4356</td>\n",
       "      <td>18</td>\n",
       "      <td>United-States</td>\n",
       "      <td>&lt;=50K</td>\n",
       "    </tr>\n",
       "    <tr>\n",
       "      <th>2</th>\n",
       "      <td>66</td>\n",
       "      <td>?</td>\n",
       "      <td>186061</td>\n",
       "      <td>10</td>\n",
       "      <td>Widowed</td>\n",
       "      <td>?</td>\n",
       "      <td>Unmarried</td>\n",
       "      <td>Black</td>\n",
       "      <td>Female</td>\n",
       "      <td>0</td>\n",
       "      <td>4356</td>\n",
       "      <td>40</td>\n",
       "      <td>United-States</td>\n",
       "      <td>&lt;=50K</td>\n",
       "    </tr>\n",
       "    <tr>\n",
       "      <th>3</th>\n",
       "      <td>54</td>\n",
       "      <td>Private</td>\n",
       "      <td>140359</td>\n",
       "      <td>4</td>\n",
       "      <td>Divorced</td>\n",
       "      <td>Machine-op-inspct</td>\n",
       "      <td>Unmarried</td>\n",
       "      <td>White</td>\n",
       "      <td>Female</td>\n",
       "      <td>0</td>\n",
       "      <td>3900</td>\n",
       "      <td>40</td>\n",
       "      <td>United-States</td>\n",
       "      <td>&lt;=50K</td>\n",
       "    </tr>\n",
       "    <tr>\n",
       "      <th>4</th>\n",
       "      <td>41</td>\n",
       "      <td>Private</td>\n",
       "      <td>264663</td>\n",
       "      <td>10</td>\n",
       "      <td>Separated</td>\n",
       "      <td>Prof-specialty</td>\n",
       "      <td>Own-child</td>\n",
       "      <td>White</td>\n",
       "      <td>Female</td>\n",
       "      <td>0</td>\n",
       "      <td>3900</td>\n",
       "      <td>40</td>\n",
       "      <td>United-States</td>\n",
       "      <td>&lt;=50K</td>\n",
       "    </tr>\n",
       "  </tbody>\n",
       "</table>\n",
       "</div>"
      ],
      "text/plain": [
       "   age workclass  fnlwgt  education.num marital.status         occupation  \\\n",
       "0   90         ?   77053              9        Widowed                  ?   \n",
       "1   82   Private  132870              9        Widowed    Exec-managerial   \n",
       "2   66         ?  186061             10        Widowed                  ?   \n",
       "3   54   Private  140359              4       Divorced  Machine-op-inspct   \n",
       "4   41   Private  264663             10      Separated     Prof-specialty   \n",
       "\n",
       "    relationship   race     sex  capital.gain  capital.loss  hours.per.week  \\\n",
       "0  Not-in-family  White  Female             0          4356              40   \n",
       "1  Not-in-family  White  Female             0          4356              18   \n",
       "2      Unmarried  Black  Female             0          4356              40   \n",
       "3      Unmarried  White  Female             0          3900              40   \n",
       "4      Own-child  White  Female             0          3900              40   \n",
       "\n",
       "  native.country income  \n",
       "0  United-States  <=50K  \n",
       "1  United-States  <=50K  \n",
       "2  United-States  <=50K  \n",
       "3  United-States  <=50K  \n",
       "4  United-States  <=50K  "
      ]
     },
     "execution_count": 2,
     "metadata": {},
     "output_type": "execute_result"
    }
   ],
   "source": [
    "df = pd.read_csv('adult.csv')\n",
    "del df['education']\n",
    "df.head()"
   ]
  },
  {
   "cell_type": "markdown",
   "id": "8044c3cc",
   "metadata": {},
   "source": [
    "De categorische variabelen binair maken "
   ]
  },
  {
   "cell_type": "code",
   "execution_count": 3,
   "id": "00977c3f",
   "metadata": {
    "scrolled": true
   },
   "outputs": [],
   "source": [
    "df['income'] = (df['income']=='<=50K').astype(int)\n",
    "df['race'] = np.where(df['race'].str.contains('White'),1,0)\n",
    "df['sex'] = np.where(df['sex'].str.contains('Female'),1,0)"
   ]
  },
  {
   "cell_type": "markdown",
   "id": "7647273e",
   "metadata": {},
   "source": [
    "Aangeven welke factoren waarvoor bedoeld zijn (label/verwachte bias/categorisch/continue)"
   ]
  },
  {
   "cell_type": "code",
   "execution_count": 4,
   "id": "314785df",
   "metadata": {},
   "outputs": [],
   "source": [
    "expected_bias = ['sex']\n",
    "target = ['income']\n",
    "cat = ['workclass','marital.status','occupation','relationship',\n",
    "       'native.country']\n",
    "continuous = ['age','fnlwgt','education.num','capital.gain',\n",
    "              'capital.loss','hours.per.week']"
   ]
  },
  {
   "cell_type": "markdown",
   "id": "69b8524f",
   "metadata": {},
   "source": [
    "Dummy variabelen maken van de categorische variabelen"
   ]
  },
  {
   "cell_type": "code",
   "execution_count": 5,
   "id": "5b89a769",
   "metadata": {
    "scrolled": true
   },
   "outputs": [],
   "source": [
    "dum = pd.get_dummies(df[cat].astype('category'),prefix_sep='=')\n",
    "encoded_df = pd.concat([dum, df[continuous], df[expected_bias], \n",
    "                        df[target]], axis=1)"
   ]
  },
  {
   "cell_type": "markdown",
   "id": "b0ff98e4",
   "metadata": {},
   "source": [
    "De privileged en unprivileged groups aangeven"
   ]
  },
  {
   "cell_type": "code",
   "execution_count": 6,
   "id": "bde0a812",
   "metadata": {},
   "outputs": [],
   "source": [
    "privileged_groups = [{'sex':0}]\n",
    "unprivileged_groups = [{'sex':1}]\n",
    "favorable_label = 0\n",
    "unfavorable_label = 1"
   ]
  },
  {
   "cell_type": "markdown",
   "id": "01778f3d",
   "metadata": {},
   "source": [
    "Een Binary Label Dataset maken van de dataframe (nodig voor AI Fairness 360)"
   ]
  },
  {
   "cell_type": "code",
   "execution_count": 7,
   "id": "738ad8c5",
   "metadata": {},
   "outputs": [],
   "source": [
    "aif360_dataset = aif360.datasets.BinaryLabelDataset(\n",
    "    favorable_label=favorable_label,\n",
    "    unfavorable_label=unfavorable_label,\n",
    "    df=encoded_df,\n",
    "    label_names=['income'],\n",
    "    protected_attribute_names=['sex'])"
   ]
  },
  {
   "cell_type": "markdown",
   "id": "c34488e7",
   "metadata": {},
   "source": [
    "Een test en training set aanmaken"
   ]
  },
  {
   "cell_type": "code",
   "execution_count": 8,
   "id": "4c349827",
   "metadata": {},
   "outputs": [],
   "source": [
    "aif360_train, aif360_test = aif360_dataset.split([0.7],shuffle=False)"
   ]
  },
  {
   "cell_type": "markdown",
   "id": "b6832f3e",
   "metadata": {},
   "source": [
    "De metrics bepalen voor de originele dataset"
   ]
  },
  {
   "cell_type": "code",
   "execution_count": 9,
   "id": "c4b72bd0",
   "metadata": {
    "scrolled": true
   },
   "outputs": [
    {
     "name": "stdout",
     "output_type": "stream",
     "text": [
      "Original training dataset\n",
      "Difference in mean outcomes between unprivileged and privileged groups = -0.207608\n"
     ]
    }
   ],
   "source": [
    "# Metric for the original dataset\n",
    "metric_orig_train = BinaryLabelDatasetMetric(aif360_train, \n",
    "                                             unprivileged_groups=unprivileged_groups,\n",
    "                                             privileged_groups=privileged_groups)\n",
    "print(\"Original training dataset\")\n",
    "print(\"Difference in mean outcomes between unprivileged and privileged groups = %f\" % metric_orig_train.statistical_parity_difference())"
   ]
  },
  {
   "cell_type": "code",
   "execution_count": 10,
   "id": "b27cdafb",
   "metadata": {},
   "outputs": [
    {
     "data": {
      "text/plain": [
       "(-0.2076, 0.3687)"
      ]
     },
     "execution_count": 10,
     "metadata": {},
     "output_type": "execute_result"
    }
   ],
   "source": [
    "spd_before = round(metric_orig_train.statistical_parity_difference(),4)\n",
    "di_before = round(metric_orig_train.disparate_impact(),4)"
   ]
  },
  {
   "cell_type": "code",
   "execution_count": 28,
   "id": "9f61f5d0",
   "metadata": {},
   "outputs": [
    {
     "name": "stdout",
     "output_type": "stream",
     "text": [
      "Statistical Parity Difference dataset: -0.2076\n",
      "Disparate Impact dataset: 0.3687\n"
     ]
    }
   ],
   "source": [
    "print(\"Statistical Parity Difference dataset: {}\".format(spd_before))\n",
    "print(\"Disparate Impact dataset: {}\".format(di_before))"
   ]
  },
  {
   "cell_type": "markdown",
   "id": "04da47c0",
   "metadata": {},
   "source": [
    "### Make classifier predictions"
   ]
  },
  {
   "cell_type": "markdown",
   "id": "ab765535",
   "metadata": {},
   "source": [
    "Voorspellingen maken met de dataset door middel van AdaBoosting"
   ]
  },
  {
   "cell_type": "code",
   "execution_count": 11,
   "id": "68ca8e91",
   "metadata": {},
   "outputs": [
    {
     "name": "stderr",
     "output_type": "stream",
     "text": [
      "A column-vector y was passed when a 1d array was expected. Please change the shape of y to (n_samples, ), for example using ravel().\n"
     ]
    },
    {
     "name": "stdout",
     "output_type": "stream",
     "text": [
      "Accuracy: 0.8605793837649708\n"
     ]
    }
   ],
   "source": [
    "cls = AdaBoostClassifier(n_estimators=100)\n",
    "cls.fit(aif360_dataset.features, aif360_dataset.labels,sample_weight=aif360_dataset.instance_weights)\n",
    "print(\"Accuracy:\", metrics.accuracy_score(aif360_test.labels,\n",
    "                                          cls.predict(aif360_test.features)))"
   ]
  },
  {
   "cell_type": "code",
   "execution_count": 12,
   "id": "11edb722",
   "metadata": {},
   "outputs": [],
   "source": [
    "yhat = cls.predict(aif360_test.features)"
   ]
  },
  {
   "cell_type": "markdown",
   "id": "6adc18b4",
   "metadata": {},
   "source": [
    "### Reweighing"
   ]
  },
  {
   "cell_type": "markdown",
   "id": "6972259c",
   "metadata": {},
   "source": [
    "De dataset reweighen om de aantallen gelijk te krijgen en de bias eruit te halen"
   ]
  },
  {
   "cell_type": "code",
   "execution_count": 13,
   "id": "70d449fc",
   "metadata": {},
   "outputs": [],
   "source": [
    "RW = Reweighing(unprivileged_groups=unprivileged_groups,\n",
    "               privileged_groups=privileged_groups)\n",
    "RW.fit(aif360_train)\n",
    "transf_dataset = RW.transform(aif360_train)"
   ]
  },
  {
   "cell_type": "markdown",
   "id": "d95df9ca",
   "metadata": {},
   "source": [
    "Een test en training set aanmaken"
   ]
  },
  {
   "cell_type": "code",
   "execution_count": 14,
   "id": "8c7cca2b",
   "metadata": {},
   "outputs": [],
   "source": [
    "aif360_train_after, aif360_test_after = transf_dataset.split([0.7])"
   ]
  },
  {
   "cell_type": "markdown",
   "id": "a5a49c9d",
   "metadata": {},
   "source": [
    "De metrics bepalen voor de nieuwe dataset"
   ]
  },
  {
   "cell_type": "code",
   "execution_count": 15,
   "id": "baeaefcd",
   "metadata": {
    "scrolled": true
   },
   "outputs": [
    {
     "name": "stdout",
     "output_type": "stream",
     "text": [
      "Transformed training dataset\n",
      "Difference in mean outcomes between unprivileged and privileged groups = 0.003784\n"
     ]
    }
   ],
   "source": [
    "# Metric for the transformed dataset\n",
    "metric_orig_train_after = BinaryLabelDatasetMetric(aif360_train_after, \n",
    "                                             unprivileged_groups=unprivileged_groups,\n",
    "                                             privileged_groups=privileged_groups)\n",
    "print(\"Transformed training dataset\")\n",
    "print(\"Difference in mean outcomes between unprivileged and privileged groups = %f\" % metric_orig_train_after.statistical_parity_difference())"
   ]
  },
  {
   "cell_type": "code",
   "execution_count": 16,
   "id": "494dc085",
   "metadata": {},
   "outputs": [],
   "source": [
    "spd_after = round(metric_orig_train_after.statistical_parity_difference(),4)\n",
    "di_after = round(metric_orig_train_after.disparate_impact(),4)"
   ]
  },
  {
   "cell_type": "code",
   "execution_count": 27,
   "id": "f20d08ce",
   "metadata": {},
   "outputs": [
    {
     "name": "stdout",
     "output_type": "stream",
     "text": [
      "Statistical Parity Difference nieuwe dataset: 0.0038\n",
      "Disparate Impact nieuwe dataset: 1.013\n"
     ]
    }
   ],
   "source": [
    "print(\"Statistical Parity Difference nieuwe dataset: {}\".format(spd_after))\n",
    "print(\"Disparate Impact nieuwe dataset: {}\".format(di_after))"
   ]
  },
  {
   "cell_type": "markdown",
   "id": "8f7a4d2d",
   "metadata": {},
   "source": [
    "### Make classifier predictions after reweighing"
   ]
  },
  {
   "cell_type": "markdown",
   "id": "80f6399d",
   "metadata": {},
   "source": [
    "Voorspellingen maken met de nieuwe dataset door middel van AdaBoosting"
   ]
  },
  {
   "cell_type": "code",
   "execution_count": 18,
   "id": "abed9a63",
   "metadata": {},
   "outputs": [
    {
     "name": "stderr",
     "output_type": "stream",
     "text": [
      "A column-vector y was passed when a 1d array was expected. Please change the shape of y to (n_samples, ), for example using ravel().\n"
     ]
    },
    {
     "name": "stdout",
     "output_type": "stream",
     "text": [
      "Accuracy: 0.8667076167076168\n"
     ]
    }
   ],
   "source": [
    "cls = AdaBoostClassifier(n_estimators=100)\n",
    "model = cls.fit(transf_dataset.features, transf_dataset.labels,sample_weight=transf_dataset.instance_weights)\n",
    "print(\"Accuracy:\", metrics.accuracy_score(transf_dataset.labels,\n",
    "                                          model.predict(transf_dataset.features)))"
   ]
  },
  {
   "cell_type": "code",
   "execution_count": 19,
   "id": "690ef5a1",
   "metadata": {},
   "outputs": [],
   "source": [
    "yhat_after = model.predict(aif360_test_after.features)"
   ]
  },
  {
   "cell_type": "markdown",
   "id": "9e2f243b",
   "metadata": {},
   "source": [
    "## Visualisaties"
   ]
  },
  {
   "cell_type": "markdown",
   "id": "d2ae6042",
   "metadata": {},
   "source": [
    "### Statistical Parity Difference"
   ]
  },
  {
   "cell_type": "code",
   "execution_count": 20,
   "id": "5c58370f",
   "metadata": {},
   "outputs": [
    {
     "data": {
      "image/png": "[encoded data removed]",
      "text/plain": [
       "<Figure size 576x360 with 1 Axes>"
      ]
     },
     "metadata": {
      "needs_background": "light"
     },
     "output_type": "display_data"
    }
   ],
   "source": [
    "plt.figure(figsize=(8,5))\n",
    "names = ['Before mitigating','After mitigating']\n",
    "values = [spd_before,spd_after]\n",
    "plt.axhline(y=-0.2,color='#CD3333',linewidth=158,alpha=0.1)\n",
    "plt.bar(names,values,color='#ADD8E6',alpha=1)\n",
    "plt.title('Statistical Parity Difference (target = 0)')\n",
    "plt.axhline(y=0,c='r',linestyle='dashed')\n",
    "plt.ylim(-0.25,0.1)\n",
    "plt.ylabel('Metric score')\n",
    "plt.show()"
   ]
  },
  {
   "cell_type": "markdown",
   "id": "9978c13d",
   "metadata": {},
   "source": [
    "### Disparate Impact"
   ]
  },
  {
   "cell_type": "code",
   "execution_count": 24,
   "id": "91a55e05",
   "metadata": {},
   "outputs": [
    {
     "data": {
      "image/png": "[encoded data removed]",
      "text/plain": [
       "<Figure size 576x360 with 1 Axes>"
      ]
     },
     "metadata": {
      "needs_background": "light"
     },
     "output_type": "display_data"
    }
   ],
   "source": [
    "plt.figure(figsize=(8,5))\n",
    "names = ['Before mitigating','After mitigating']\n",
    "values = [di_before,di_after]\n",
    "plt.axhline(y=0.3,color='#CD3333',linewidth=250,alpha=0.1)\n",
    "plt.bar(names,values,color='#ADD8E6')\n",
    "plt.title('Disparate Impact (target = one)')\n",
    "plt.axhline(y=1,c='r',linestyle='dashed')\n",
    "plt.ylim(0,1.1)\n",
    "plt.ylabel('Metric score')\n",
    "plt.show()"
   ]
  },
  {
   "cell_type": "code",
   "execution_count": null,
   "id": "f526664f",
   "metadata": {},
   "outputs": [],
   "source": []
  }
 ],
 "metadata": {
  "kernelspec": {
   "display_name": "Python 3",
   "language": "python",
   "name": "python3"
  },
  "language_info": {
   "codemirror_mode": {
    "name": "ipython",
    "version": 3
   },
   "file_extension": ".py",
   "mimetype": "text/x-python",
   "name": "python",
   "nbconvert_exporter": "python",
   "pygments_lexer": "ipython3",
   "version": "3.9.4"
  }
 },
 "nbformat": 4,
 "nbformat_minor": 5
}
